{
 "cells": [
  {
   "cell_type": "code",
   "execution_count": 1,
   "metadata": {},
   "outputs": [],
   "source": [
    "import pandas as pd\n",
    "import seaborn as sns\n",
    "import matplotlib.pyplot as plt\n",
    "%matplotlib inline"
   ]
  },
  {
   "cell_type": "code",
   "execution_count": 2,
   "metadata": {},
   "outputs": [],
   "source": [
    "datin=pd.read_csv(\"C:/Users/pc/Documents/Self_Learning/[DesireCourse.Net] Udemy - Time Series Analysis in Python 2020/03 Introduction to Time Series in Python/013 IndexE8.csv\")"
   ]
  },
  {
   "cell_type": "code",
   "execution_count": 3,
   "metadata": {},
   "outputs": [],
   "source": [
    "datin.date=pd.to_datetime(datin.date,dayfirst=True)"
   ]
  },
  {
   "cell_type": "code",
   "execution_count": 4,
   "metadata": {},
   "outputs": [],
   "source": [
    "datin.set_index(\"date\",inplace=True)\n"
   ]
  },
  {
   "cell_type": "code",
   "execution_count": 5,
   "metadata": {},
   "outputs": [],
   "source": [
    "import statsmodels.tsa.stattools as sts\n",
    "import statsmodels.graphics.tsaplots as sgt"
   ]
  },
  {
   "cell_type": "code",
   "execution_count": 6,
   "metadata": {},
   "outputs": [],
   "source": [
    "from math import sqrt"
   ]
  },
  {
   "cell_type": "code",
   "execution_count": 10,
   "metadata": {},
   "outputs": [],
   "source": [
    "df_comp=datin.copy()\n",
    "df_comp.index=pd.to_datetime(df_comp.index,dayfirst=True)\n",
    "df_comp=df_comp.asfreq('b')\n",
    "df_comp=df_comp.fillna(method=\"ffill\")"
   ]
  },
  {
   "cell_type": "code",
   "execution_count": 12,
   "metadata": {},
   "outputs": [],
   "source": [
    "df_comp['market_value']=df_comp.ftse"
   ]
  },
  {
   "cell_type": "code",
   "execution_count": 14,
   "metadata": {},
   "outputs": [],
   "source": [
    "df_comp['returns_FTSE']=df_comp.ftse.pct_change(1).mul(100)"
   ]
  },
  {
   "cell_type": "code",
   "execution_count": 16,
   "metadata": {},
   "outputs": [],
   "source": [
    "from  statsmodels.tsa.arima_model import ARMA"
   ]
  },
  {
   "cell_type": "markdown",
   "metadata": {},
   "source": [
    "MA(1) for returns"
   ]
  },
  {
   "cell_type": "code",
   "execution_count": 17,
   "metadata": {},
   "outputs": [
    {
     "data": {
      "text/html": [
       "<table class=\"simpletable\">\n",
       "<caption>ARMA Model Results</caption>\n",
       "<tr>\n",
       "  <th>Dep. Variable:</th>   <td>returns_FTSE</td>   <th>  No. Observations:  </th>   <td>6276</td>   \n",
       "</tr>\n",
       "<tr>\n",
       "  <th>Model:</th>            <td>ARMA(0, 1)</td>    <th>  Log Likelihood     </th> <td>-9597.598</td>\n",
       "</tr>\n",
       "<tr>\n",
       "  <th>Method:</th>             <td>css-mle</td>     <th>  S.D. of innovations</th>   <td>1.117</td>  \n",
       "</tr>\n",
       "<tr>\n",
       "  <th>Date:</th>          <td>Tue, 08 Sep 2020</td> <th>  AIC                </th> <td>19201.195</td>\n",
       "</tr>\n",
       "<tr>\n",
       "  <th>Time:</th>              <td>18:53:25</td>     <th>  BIC                </th> <td>19221.429</td>\n",
       "</tr>\n",
       "<tr>\n",
       "  <th>Sample:</th>           <td>01-10-1994</td>    <th>  HQIC               </th> <td>19208.206</td>\n",
       "</tr>\n",
       "<tr>\n",
       "  <th></th>                 <td>- 01-29-2018</td>   <th>                     </th>     <td> </td>    \n",
       "</tr>\n",
       "</table>\n",
       "<table class=\"simpletable\">\n",
       "<tr>\n",
       "           <td></td>             <th>coef</th>     <th>std err</th>      <th>z</th>      <th>P>|z|</th>  <th>[0.025</th>    <th>0.975]</th>  \n",
       "</tr>\n",
       "<tr>\n",
       "  <th>const</th>              <td>    0.0190</td> <td>    0.014</td> <td>    1.374</td> <td> 0.169</td> <td>   -0.008</td> <td>    0.046</td>\n",
       "</tr>\n",
       "<tr>\n",
       "  <th>ma.L1.returns_FTSE</th> <td>   -0.0196</td> <td>    0.013</td> <td>   -1.467</td> <td> 0.142</td> <td>   -0.046</td> <td>    0.007</td>\n",
       "</tr>\n",
       "</table>\n",
       "<table class=\"simpletable\">\n",
       "<caption>Roots</caption>\n",
       "<tr>\n",
       "    <td></td>   <th>            Real</th>  <th>         Imaginary</th> <th>         Modulus</th>  <th>        Frequency</th>\n",
       "</tr>\n",
       "<tr>\n",
       "  <th>MA.1</th> <td>          51.1299</td> <td>          +0.0000j</td> <td>          51.1299</td> <td>           0.0000</td>\n",
       "</tr>\n",
       "</table>"
      ],
      "text/plain": [
       "<class 'statsmodels.iolib.summary.Summary'>\n",
       "\"\"\"\n",
       "                              ARMA Model Results                              \n",
       "==============================================================================\n",
       "Dep. Variable:           returns_FTSE   No. Observations:                 6276\n",
       "Model:                     ARMA(0, 1)   Log Likelihood               -9597.598\n",
       "Method:                       css-mle   S.D. of innovations              1.117\n",
       "Date:                Tue, 08 Sep 2020   AIC                          19201.195\n",
       "Time:                        18:53:25   BIC                          19221.429\n",
       "Sample:                    01-10-1994   HQIC                         19208.206\n",
       "                         - 01-29-2018                                         \n",
       "======================================================================================\n",
       "                         coef    std err          z      P>|z|      [0.025      0.975]\n",
       "--------------------------------------------------------------------------------------\n",
       "const                  0.0190      0.014      1.374      0.169      -0.008       0.046\n",
       "ma.L1.returns_FTSE    -0.0196      0.013     -1.467      0.142      -0.046       0.007\n",
       "                                    Roots                                    \n",
       "=============================================================================\n",
       "                  Real          Imaginary           Modulus         Frequency\n",
       "-----------------------------------------------------------------------------\n",
       "MA.1           51.1299           +0.0000j           51.1299            0.0000\n",
       "-----------------------------------------------------------------------------\n",
       "\"\"\""
      ]
     },
     "execution_count": 17,
     "metadata": {},
     "output_type": "execute_result"
    }
   ],
   "source": [
    "model_ret_ma_1=ARMA(df_comp.returns_FTSE[1:],order=(0,1))\n",
    "result_ret_ma_1=model_ret_ma_1.fit()\n",
    "result_ret_ma_1.summary()"
   ]
  },
  {
   "cell_type": "code",
   "execution_count": 18,
   "metadata": {},
   "outputs": [],
   "source": [
    "def LLR(mod1,mod2,DF=1):\n",
    "    l1=mod1.fit().llf\n",
    "    l2=mod2.fit().llf\n",
    "    LR=(2*(l2-l1))\n",
    "    p=chi2.sf(LR,DF).round(3)\n",
    "    return p"
   ]
  },
  {
   "cell_type": "code",
   "execution_count": 21,
   "metadata": {},
   "outputs": [],
   "source": [
    "from scipy.stats.distributions import chi2"
   ]
  },
  {
   "cell_type": "markdown",
   "metadata": {},
   "source": [
    "Higher-Lag MA Model for Returns"
   ]
  },
  {
   "cell_type": "code",
   "execution_count": 22,
   "metadata": {},
   "outputs": [
    {
     "name": "stdout",
     "output_type": "stream",
     "text": [
      "                              ARMA Model Results                              \n",
      "==============================================================================\n",
      "Dep. Variable:           returns_FTSE   No. Observations:                 6276\n",
      "Model:                     ARMA(0, 2)   Log Likelihood               -9589.839\n",
      "Method:                       css-mle   S.D. of innovations              1.115\n",
      "Date:                Tue, 08 Sep 2020   AIC                          19187.677\n",
      "Time:                        19:00:57   BIC                          19214.655\n",
      "Sample:                    01-10-1994   HQIC                         19197.025\n",
      "                         - 01-29-2018                                         \n",
      "======================================================================================\n",
      "                         coef    std err          z      P>|z|      [0.025      0.975]\n",
      "--------------------------------------------------------------------------------------\n",
      "const                  0.0190      0.013      1.457      0.145      -0.007       0.045\n",
      "ma.L1.returns_FTSE    -0.0254      0.013     -2.000      0.045      -0.050      -0.001\n",
      "ma.L2.returns_FTSE    -0.0488      0.012     -3.940      0.000      -0.073      -0.024\n",
      "                                    Roots                                    \n",
      "=============================================================================\n",
      "                  Real          Imaginary           Modulus         Frequency\n",
      "-----------------------------------------------------------------------------\n",
      "MA.1            4.2761           +0.0000j            4.2761            0.0000\n",
      "MA.2           -4.7968           +0.0000j            4.7968            0.5000\n",
      "-----------------------------------------------------------------------------\n",
      "\n",
      "LLR test p-value 0.0\n"
     ]
    }
   ],
   "source": [
    "model_ret_ma_2=ARMA(df_comp.returns_FTSE[1:],order=(0,2))\n",
    "result_ret_ma_2=model_ret_ma_2.fit()\n",
    "print(result_ret_ma_2.summary())\n",
    "print(\"\\nLLR test p-value\",str(LLR(model_ret_ma_1,model_ret_ma_2)))"
   ]
  },
  {
   "cell_type": "code",
   "execution_count": 23,
   "metadata": {},
   "outputs": [
    {
     "name": "stdout",
     "output_type": "stream",
     "text": [
      "                              ARMA Model Results                              \n",
      "==============================================================================\n",
      "Dep. Variable:           returns_FTSE   No. Observations:                 6276\n",
      "Model:                     ARMA(0, 3)   Log Likelihood               -9573.494\n",
      "Method:                       css-mle   S.D. of innovations              1.112\n",
      "Date:                Tue, 08 Sep 2020   AIC                          19156.988\n",
      "Time:                        19:11:02   BIC                          19190.710\n",
      "Sample:                    01-10-1994   HQIC                         19168.672\n",
      "                         - 01-29-2018                                         \n",
      "======================================================================================\n",
      "                         coef    std err          z      P>|z|      [0.025      0.975]\n",
      "--------------------------------------------------------------------------------------\n",
      "const                  0.0190      0.012      1.587      0.113      -0.004       0.043\n",
      "ma.L1.returns_FTSE    -0.0175      0.013     -1.381      0.167      -0.042       0.007\n",
      "ma.L2.returns_FTSE    -0.0539      0.012     -4.405      0.000      -0.078      -0.030\n",
      "ma.L3.returns_FTSE    -0.0749      0.013     -5.739      0.000      -0.100      -0.049\n",
      "                                    Roots                                    \n",
      "=============================================================================\n",
      "                  Real          Imaginary           Modulus         Frequency\n",
      "-----------------------------------------------------------------------------\n",
      "MA.1            2.1255           -0.0000j            2.1255           -0.0000\n",
      "MA.2           -1.4225           -2.0633j            2.5062           -0.3461\n",
      "MA.3           -1.4225           +2.0633j            2.5062            0.3461\n",
      "-----------------------------------------------------------------------------\n",
      "\n",
      "LLR test p-value 0.0\n"
     ]
    }
   ],
   "source": [
    "model_ret_ma_3=ARMA(df_comp.returns_FTSE[1:],order=(0,3))\n",
    "result_ret_ma_3=model_ret_ma_3.fit()\n",
    "print(result_ret_ma_3.summary())\n",
    "print(\"\\nLLR test p-value\",str(LLR(model_ret_ma_2,model_ret_ma_3)))"
   ]
  },
  {
   "cell_type": "code",
   "execution_count": 26,
   "metadata": {},
   "outputs": [
    {
     "data": {
      "image/png": "[encoded data removed]",
      "text/plain": [
       "<Figure size 432x288 with 1 Axes>"
      ]
     },
     "metadata": {
      "needs_background": "light"
     },
     "output_type": "display_data"
    }
   ],
   "source": [
    "sgt.plot_acf(df_comp.returns_FTSE[1:],lags=25,zero=False)\n",
    "plt.title('ACF of FTSE RETURNS', size=20)\n",
    "plt.show()\n"
   ]
  },
  {
   "cell_type": "code",
   "execution_count": 28,
   "metadata": {},
   "outputs": [
    {
     "name": "stdout",
     "output_type": "stream",
     "text": [
      "                              ARMA Model Results                              \n",
      "==============================================================================\n",
      "Dep. Variable:           returns_FTSE   No. Observations:                 6276\n",
      "Model:                     ARMA(0, 8)   Log Likelihood               -9557.611\n",
      "Method:                       css-mle   S.D. of innovations              1.110\n",
      "Date:                Tue, 08 Sep 2020   AIC                          19135.223\n",
      "Time:                        19:14:48   BIC                          19202.668\n",
      "Sample:                    01-10-1994   HQIC                         19158.591\n",
      "                         - 01-29-2018                                         \n",
      "======================================================================================\n",
      "                         coef    std err          z      P>|z|      [0.025      0.975]\n",
      "--------------------------------------------------------------------------------------\n",
      "const                  0.0190      0.012      1.609      0.108      -0.004       0.042\n",
      "ma.L1.returns_FTSE    -0.0197      0.013     -1.564      0.118      -0.044       0.005\n",
      "ma.L2.returns_FTSE    -0.0491      0.013     -3.896      0.000      -0.074      -0.024\n",
      "ma.L3.returns_FTSE    -0.0694      0.013     -5.488      0.000      -0.094      -0.045\n",
      "ma.L4.returns_FTSE     0.0329      0.013      2.598      0.009       0.008       0.058\n",
      "ma.L5.returns_FTSE    -0.0523      0.013     -4.090      0.000      -0.077      -0.027\n",
      "ma.L6.returns_FTSE    -0.0311      0.013     -2.412      0.016      -0.056      -0.006\n",
      "ma.L7.returns_FTSE     0.0076      0.013      0.597      0.551      -0.017       0.033\n",
      "ma.L8.returns_FTSE     0.0255      0.012      2.052      0.040       0.001       0.050\n",
      "                                    Roots                                    \n",
      "=============================================================================\n",
      "                  Real          Imaginary           Modulus         Frequency\n",
      "-----------------------------------------------------------------------------\n",
      "MA.1            1.5487           -0.4196j            1.6045           -0.0421\n",
      "MA.2            1.5487           +0.4196j            1.6045            0.0421\n",
      "MA.3            0.5993           -1.3679j            1.4934           -0.1843\n",
      "MA.4            0.5993           +1.3679j            1.4934            0.1843\n",
      "MA.5           -0.7874           -1.3439j            1.5576           -0.3344\n",
      "MA.6           -0.7874           +1.3439j            1.5576            0.3344\n",
      "MA.7           -1.5101           -0.7333j            1.6787           -0.4280\n",
      "MA.8           -1.5101           +0.7333j            1.6787            0.4280\n",
      "-----------------------------------------------------------------------------\n",
      "\n",
      "LLR test p-value 0.0\n"
     ]
    }
   ],
   "source": [
    "model_ret_ma_8=ARMA(df_comp.returns_FTSE[1:],order=(0,8))\n",
    "result_ret_ma_8=model_ret_ma_8.fit()\n",
    "print(result_ret_ma_8.summary())\n",
    "print(\"\\nLLR test p-value\",str(LLR(model_ret_ma_1,model_ret_ma_8,DF=8)))"
   ]
  },
  {
   "cell_type": "markdown",
   "metadata": {},
   "source": [
    "Residuals for Returns"
   ]
  },
  {
   "cell_type": "code",
   "execution_count": 29,
   "metadata": {},
   "outputs": [],
   "source": [
    "df_comp['returns_FTS_res_8']=result_ret_ma_8.resid[1:]"
   ]
  },
  {
   "cell_type": "code",
   "execution_count": 32,
   "metadata": {},
   "outputs": [
    {
     "data": {
      "text/plain": [
       "-0.0"
      ]
     },
     "execution_count": 32,
     "metadata": {},
     "output_type": "execute_result"
    }
   ],
   "source": [
    "round(df_comp['returns_FTS_res_8'].mean(),3)"
   ]
  },
  {
   "cell_type": "code",
   "execution_count": 33,
   "metadata": {},
   "outputs": [
    {
     "data": {
      "text/plain": [
       "1.231"
      ]
     },
     "execution_count": 33,
     "metadata": {},
     "output_type": "execute_result"
    }
   ],
   "source": [
    "round(df_comp['returns_FTS_res_8'].var(),3)"
   ]
  },
  {
   "cell_type": "code",
   "execution_count": 34,
   "metadata": {},
   "outputs": [
    {
     "data": {
      "text/plain": [
       "1.11"
      ]
     },
     "execution_count": 34,
     "metadata": {},
     "output_type": "execute_result"
    }
   ],
   "source": [
    "round(sqrt(df_comp['returns_FTS_res_8'].var()),3)"
   ]
  },
  {
   "cell_type": "code",
   "execution_count": 35,
   "metadata": {},
   "outputs": [
    {
     "data": {
      "text/plain": [
       "<AxesSubplot:xlabel='date'>"
      ]
     },
     "execution_count": 35,
     "metadata": {},
     "output_type": "execute_result"
    },
    {
     "data": {
      "image/png": "[encoded data removed]",
      "text/plain": [
       "<Figure size 432x288 with 1 Axes>"
      ]
     },
     "metadata": {
      "needs_background": "light"
     },
     "output_type": "display_data"
    }
   ],
   "source": [
    "df_comp.returns_FTS_res_8[1:].plot()"
   ]
  },
  {
   "cell_type": "code",
   "execution_count": 36,
   "metadata": {},
   "outputs": [
    {
     "data": {
      "text/plain": [
       "(-79.20645865580062,\n",
       " 0.0,\n",
       " 0,\n",
       " 6274,\n",
       " {'1%': -3.4313927123850956,\n",
       "  '5%': -2.8620007867175294,\n",
       "  '10%': -2.5670152737839897},\n",
       " 19024.102543547742)"
      ]
     },
     "execution_count": 36,
     "metadata": {},
     "output_type": "execute_result"
    }
   ],
   "source": [
    "sts.adfuller(df_comp.returns_FTS_res_8[2:])"
   ]
  },
  {
   "cell_type": "code",
   "execution_count": 37,
   "metadata": {},
   "outputs": [
    {
     "data": {
      "image/png": "[encoded data removed]",
      "text/plain": [
       "<Figure size 432x288 with 1 Axes>"
      ]
     },
     "metadata": {
      "needs_background": "light"
     },
     "output_type": "display_data"
    }
   ],
   "source": [
    "sgt.plot_acf(df_comp.returns_FTS_res_8[2:],lags=25,zero=False)\n",
    "plt.title('ACF of FTSE RETURNS', size=20)\n",
    "plt.show()"
   ]
  },
  {
   "cell_type": "code",
   "execution_count": 38,
   "metadata": {},
   "outputs": [],
   "source": [
    "#Normlaized Returns"
   ]
  },
  {
   "cell_type": "code",
   "execution_count": 41,
   "metadata": {},
   "outputs": [],
   "source": [
    "bench_ret=df_comp.returns_FTSE.iloc[1]\n",
    "df_comp['norm_ret']=df_comp.returns_FTSE.div(bench_ret).mul(100)"
   ]
  },
  {
   "cell_type": "code",
   "execution_count": 45,
   "metadata": {},
   "outputs": [
    {
     "data": {
      "text/plain": [
       "date\n",
       "1994-01-07           NaN\n",
       "1994-01-10    100.000000\n",
       "1994-01-11    497.260711\n",
       "1994-01-12    780.443046\n",
       "1994-01-13    227.285567\n",
       "                 ...    \n",
       "2018-01-23   -135.530649\n",
       "2018-01-24    729.597320\n",
       "2018-01-25    230.338698\n",
       "2018-01-26   -416.456135\n",
       "2018-01-29    -49.882539\n",
       "Freq: B, Name: norm_ret, Length: 6277, dtype: float64"
      ]
     },
     "execution_count": 45,
     "metadata": {},
     "output_type": "execute_result"
    }
   ],
   "source": [
    "df_comp['norm_ret']"
   ]
  },
  {
   "cell_type": "code",
   "execution_count": 47,
   "metadata": {},
   "outputs": [
    {
     "data": {
      "image/png": "[encoded data removed]",
      "text/plain": [
       "<Figure size 432x288 with 1 Axes>"
      ]
     },
     "metadata": {
      "needs_background": "light"
     },
     "output_type": "display_data"
    }
   ],
   "source": [
    "sgt.plot_acf(df_comp.norm_ret[1:],lags=40,zero=False)\n",
    "plt.title('ACF of FTSE RETURNS Normalized Values', size=24)\n",
    "plt.show()"
   ]
  },
  {
   "cell_type": "code",
   "execution_count": 48,
   "metadata": {},
   "outputs": [
    {
     "name": "stdout",
     "output_type": "stream",
     "text": [
      "                              ARMA Model Results                              \n",
      "==============================================================================\n",
      "Dep. Variable:               norm_ret   No. Observations:                 6276\n",
      "Model:                     ARMA(0, 8)   Log Likelihood              -50091.563\n",
      "Method:                       css-mle   S.D. of innovations            708.043\n",
      "Date:                Tue, 08 Sep 2020   AIC                         100203.127\n",
      "Time:                        20:01:46   BIC                         100270.571\n",
      "Sample:                    01-10-1994   HQIC                        100226.495\n",
      "                         - 01-29-2018                                         \n",
      "==================================================================================\n",
      "                     coef    std err          z      P>|z|      [0.025      0.975]\n",
      "----------------------------------------------------------------------------------\n",
      "const            -12.1199      7.547     -1.606      0.108     -26.911       2.672\n",
      "ma.L1.norm_ret    -0.0197      0.013     -1.563      0.118      -0.044       0.005\n",
      "ma.L2.norm_ret    -0.0491      0.013     -3.896      0.000      -0.074      -0.024\n",
      "ma.L3.norm_ret    -0.0694      0.013     -5.488      0.000      -0.094      -0.045\n",
      "ma.L4.norm_ret     0.0329      0.013      2.598      0.009       0.008       0.058\n",
      "ma.L5.norm_ret    -0.0523      0.013     -4.090      0.000      -0.077      -0.027\n",
      "ma.L6.norm_ret    -0.0311      0.013     -2.412      0.016      -0.056      -0.006\n",
      "ma.L7.norm_ret     0.0076      0.013      0.597      0.551      -0.017       0.033\n",
      "ma.L8.norm_ret     0.0255      0.012      2.052      0.040       0.001       0.050\n",
      "                                    Roots                                    \n",
      "=============================================================================\n",
      "                  Real          Imaginary           Modulus         Frequency\n",
      "-----------------------------------------------------------------------------\n",
      "MA.1            1.5487           -0.4196j            1.6045           -0.0421\n",
      "MA.2            1.5487           +0.4196j            1.6045            0.0421\n",
      "MA.3            0.5993           -1.3679j            1.4934           -0.1843\n",
      "MA.4            0.5993           +1.3679j            1.4934            0.1843\n",
      "MA.5           -0.7874           -1.3439j            1.5576           -0.3344\n",
      "MA.6           -0.7874           +1.3439j            1.5576            0.3344\n",
      "MA.7           -1.5101           -0.7333j            1.6787           -0.4280\n",
      "MA.8           -1.5101           +0.7333j            1.6787            0.4280\n",
      "-----------------------------------------------------------------------------\n"
     ]
    }
   ],
   "source": [
    "#MA 8 for \n",
    "model_ret_nor_ma_8=ARMA(df_comp.norm_ret[1:],order=(0,8))\n",
    "result_ret_nor_ma_8=model_ret_nor_ma_8.fit()\n",
    "print(result_ret_nor_ma_8.summary())"
   ]
  },
  {
   "cell_type": "code",
   "execution_count": 49,
   "metadata": {},
   "outputs": [],
   "source": [
    "df_comp['res_norm_ret_8_ma']=result_ret_nor_ma_8.resid[1:]"
   ]
  },
  {
   "cell_type": "code",
   "execution_count": 51,
   "metadata": {},
   "outputs": [
    {
     "data": {
      "image/png": "[encoded data removed]",
      "text/plain": [
       "<Figure size 720x432 with 1 Axes>"
      ]
     },
     "metadata": {
      "needs_background": "light"
     },
     "output_type": "display_data"
    }
   ],
   "source": [
    "df_comp.res_norm_ret_8_ma[1:].plot(figsize=(10,6))\n",
    "plt.show()"
   ]
  },
  {
   "cell_type": "code",
   "execution_count": 53,
   "metadata": {},
   "outputs": [
    {
     "data": {
      "image/png": "[encoded data removed]",
      "text/plain": [
       "<Figure size 432x288 with 1 Axes>"
      ]
     },
     "metadata": {
      "needs_background": "light"
     },
     "output_type": "display_data"
    }
   ],
   "source": [
    "sgt.plot_acf(df_comp.res_norm_ret_8_ma[2:],lags=40,zero=False)\n",
    "plt.title('ACF of FTSE RETURNS Normalized Values', size=24)\n",
    "plt.show()"
   ]
  },
  {
   "cell_type": "code",
   "execution_count": 56,
   "metadata": {},
   "outputs": [
    {
     "name": "stdout",
     "output_type": "stream",
     "text": [
      "                              ARMA Model Results                              \n",
      "==============================================================================\n",
      "Dep. Variable:           market_value   No. Observations:                 6276\n",
      "Model:                     ARMA(0, 1)   Log Likelihood              -48989.238\n",
      "Method:                       css-mle   S.D. of innovations            593.868\n",
      "Date:                Tue, 08 Sep 2020   AIC                          97984.477\n",
      "Time:                        20:31:47   BIC                          98004.710\n",
      "Sample:                    01-10-1994   HQIC                         97991.487\n",
      "                         - 01-29-2018                                         \n",
      "======================================================================================\n",
      "                         coef    std err          z      P>|z|      [0.025      0.975]\n",
      "--------------------------------------------------------------------------------------\n",
      "const               5424.0598     14.721    368.460      0.000    5395.207    5452.912\n",
      "ma.L1.market_value     0.9639      0.002    411.390      0.000       0.959       0.968\n",
      "                                    Roots                                    \n",
      "=============================================================================\n",
      "                  Real          Imaginary           Modulus         Frequency\n",
      "-----------------------------------------------------------------------------\n",
      "MA.1           -1.0374           +0.0000j            1.0374            0.5000\n",
      "-----------------------------------------------------------------------------\n"
     ]
    }
   ],
   "source": [
    "#MA models for prices\n",
    "model_ma=ARMA(df_comp.market_value[1:],order=(0,1))\n",
    "result_ma=model_ma.fit()\n",
    "print(result_ma.summary())"
   ]
  },
  {
   "cell_type": "code",
   "execution_count": null,
   "metadata": {},
   "outputs": [],
   "source": []
  }
 ],
 "metadata": {
  "kernelspec": {
   "display_name": "Python 3",
   "language": "python",
   "name": "python3"
  },
  "language_info": {
   "codemirror_mode": {
    "name": "ipython",
    "version": 3
   },
   "file_extension": ".py",
   "mimetype": "text/x-python",
   "name": "python",
   "nbconvert_exporter": "python",
   "pygments_lexer": "ipython3",
   "version": "3.6.10"
  }
 },
 "nbformat": 4,
 "nbformat_minor": 4
}
